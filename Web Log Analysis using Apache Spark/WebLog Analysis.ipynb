{
 "cells": [
  {
   "cell_type": "code",
   "execution_count": 73,
   "metadata": {},
   "outputs": [],
   "source": [
    "# configure spark variables\n",
    "from pyspark.sql.session import SparkSession\n",
    "import pyspark.sql.functions as F\n",
    "\n",
    "# load up other dependencies\n",
    "import re\n",
    "import pandas as pd"
   ]
  },
  {
   "cell_type": "code",
   "execution_count": 74,
   "metadata": {},
   "outputs": [],
   "source": [
    "spark = SparkSession.builder.appName(\"Web Log Analysis\").getOrCreate()\n",
    "#sc = SparkContext()\n",
    "#sqlContext = SQLContext(sc)\n",
    "#spark = SparkSession(sc)"
   ]
  },
  {
   "cell_type": "markdown",
   "metadata": {},
   "source": [
    "### Loading and Viewing the Log Dataset & taking a look at the metadata of our dataframe"
   ]
  },
  {
   "cell_type": "code",
   "execution_count": 75,
   "metadata": {},
   "outputs": [],
   "source": [
    "raw = spark.read.text(\"datasets/access.log\")\n",
    "raw = raw.filter(raw.value != '') # Removing the first empty line"
   ]
  },
  {
   "cell_type": "code",
   "execution_count": 76,
   "metadata": {},
   "outputs": [
    {
     "name": "stdout",
     "output_type": "stream",
     "text": [
      "root\n",
      " |-- value: string (nullable = true)\n",
      "\n"
     ]
    }
   ],
   "source": [
    "raw.printSchema()"
   ]
  },
  {
   "cell_type": "code",
   "execution_count": 77,
   "metadata": {},
   "outputs": [
    {
     "name": "stdout",
     "output_type": "stream",
     "text": [
      "+-------------------------------------------------------------------------------------------------------------------------------------------------------------------------------------------------------------+\n",
      "|value                                                                                                                                                                                                        |\n",
      "+-------------------------------------------------------------------------------------------------------------------------------------------------------------------------------------------------------------+\n",
      "|109.169.248.247 - - [12/Dec/2015:18:25:11 +0100] GET /administrator/ HTTP/1.1 200 4263 - Mozilla/5.0 (Windows NT 6.0; rv:34.0) Gecko/20100101 Firefox/34.0 -                                                 |\n",
      "|109.169.248.247 - - [12/Dec/2015:18:25:11 +0100] POST /administrator/index.php HTTP/1.1 200 4494 http://almhuette-raith.at/administrator/ Mozilla/5.0 (Windows NT 6.0; rv:34.0) Gecko/20100101 Firefox/34.0 -|\n",
      "|46.72.177.4 - - [12/Dec/2015:18:31:08 +0100] GET /administrator/ HTTP/1.1 200 4263 - Mozilla/5.0 (Windows NT 6.0; rv:34.0) Gecko/20100101 Firefox/34.0 -                                                     |\n",
      "+-------------------------------------------------------------------------------------------------------------------------------------------------------------------------------------------------------------+\n",
      "only showing top 3 rows\n",
      "\n"
     ]
    }
   ],
   "source": [
    "# This output allows us to see the text for our log data’s schema that we will soon inspect.\n",
    "raw.show(3, truncate=False)"
   ]
  },
  {
   "cell_type": "markdown",
   "metadata": {},
   "source": [
    "### Data Wrangling - Data Parsing and Extraction with Regular Expressions"
   ]
  },
  {
   "cell_type": "code",
   "execution_count": 78,
   "metadata": {},
   "outputs": [],
   "source": [
    "host_pattern = r'(^\\S+\\.[\\S+\\.]+\\S+)\\s'\n",
    "ts_pattern = r'\\[(\\d{2}\\/\\w{3}\\/\\d{4}:\\d{2}:\\d{2}:\\d{2} .\\d{4})]'\n",
    "method_uri_protocol_pattern = r'([A-Z]{3,})\\s(\\S+)\\s*(\\S*)'\n",
    "status_pattern = r'\\s(\\d{3})\\s'\n",
    "content_size_pattern = r'\\s(\\d{3})\\s(\\d+)\\s'"
   ]
  },
  {
   "cell_type": "code",
   "execution_count": 79,
   "metadata": {},
   "outputs": [
    {
     "name": "stdout",
     "output_type": "stream",
     "text": [
      "*** CLEANING & TRANSFORMING LOG DATA INTO SPARK DATAFRAME ***\n",
      "+---------------+--------------------+------+--------------------+--------+------+------------+\n",
      "|           host|           timestamp|method|            endpoint|protocol|status|content_size|\n",
      "+---------------+--------------------+------+--------------------+--------+------+------------+\n",
      "|109.169.248.247|12/Dec/2015:18:25...|   GET|     /administrator/|HTTP/1.1|   200|        4263|\n",
      "|109.169.248.247|12/Dec/2015:18:25...|  POST|/administrator/in...|HTTP/1.1|   200|        4494|\n",
      "|    46.72.177.4|12/Dec/2015:18:31...|   GET|     /administrator/|HTTP/1.1|   200|        4263|\n",
      "|    46.72.177.4|12/Dec/2015:18:31...|  POST|/administrator/in...|HTTP/1.1|   200|        4494|\n",
      "| 83.167.113.100|12/Dec/2015:18:31...|   GET|     /administrator/|HTTP/1.1|   200|        4263|\n",
      "| 83.167.113.100|12/Dec/2015:18:31...|  POST|/administrator/in...|HTTP/1.1|   200|        4494|\n",
      "|   95.29.198.15|12/Dec/2015:18:32...|   GET|     /administrator/|HTTP/1.1|   200|        4263|\n",
      "|   95.29.198.15|12/Dec/2015:18:32...|  POST|/administrator/in...|HTTP/1.1|   200|        4494|\n",
      "|  109.184.11.34|12/Dec/2015:18:32...|   GET|     /administrator/|HTTP/1.1|   200|        4263|\n",
      "|  109.184.11.34|12/Dec/2015:18:32...|  POST|/administrator/in...|HTTP/1.1|   200|        4494|\n",
      "+---------------+--------------------+------+--------------------+--------+------+------------+\n",
      "only showing top 10 rows\n",
      "\n",
      "(2338006, 7)\n"
     ]
    }
   ],
   "source": [
    "from pyspark.sql.functions import regexp_extract\n",
    "print(\"*** CLEANING & TRANSFORMING LOG DATA INTO SPARK DATAFRAME ***\")\n",
    "\n",
    "logs_df = raw.select(regexp_extract('value', host_pattern, 1).alias('host'),\n",
    "                         regexp_extract('value', ts_pattern, 1).alias('timestamp'),\n",
    "                         regexp_extract('value', method_uri_protocol_pattern, 1).alias('method'),\n",
    "                         regexp_extract('value', method_uri_protocol_pattern, 2).alias('endpoint'),\n",
    "                         regexp_extract('value', method_uri_protocol_pattern, 3).alias('protocol'),\n",
    "                         regexp_extract('value', status_pattern, 1).cast('integer').alias('status'),\n",
    "                         regexp_extract('value', content_size_pattern, 2).cast('integer').alias('content_size'))\n",
    "logs_df.show(10, truncate=True)\n",
    "print((logs_df.count(), len(logs_df.columns)))"
   ]
  },
  {
   "cell_type": "markdown",
   "metadata": {},
   "source": [
    "### Finding Missing Values"
   ]
  },
  {
   "cell_type": "code",
   "execution_count": 80,
   "metadata": {},
   "outputs": [
    {
     "data": {
      "text/plain": [
       "0"
      ]
     },
     "execution_count": 80,
     "metadata": {},
     "output_type": "execute_result"
    }
   ],
   "source": [
    "raw.filter(raw['value'].isNull()).count()"
   ]
  },
  {
   "cell_type": "code",
   "execution_count": 81,
   "metadata": {},
   "outputs": [
    {
     "data": {
      "text/plain": [
       "6341"
      ]
     },
     "execution_count": 81,
     "metadata": {},
     "output_type": "execute_result"
    }
   ],
   "source": [
    "null_values_df = logs_df.filter(logs_df['host'].isNull() | \n",
    "              logs_df['timestamp'].isNull() |\n",
    "              logs_df['method'].isNull() |\n",
    "              logs_df['endpoint'].isNull() |\n",
    "              logs_df['protocol'].isNull() |\n",
    "              logs_df['status'].isNull() |\n",
    "              logs_df['content_size'].isNull())\n",
    "\n",
    "null_values_df.count()"
   ]
  },
  {
   "cell_type": "markdown",
   "metadata": {},
   "source": [
    "### Finding Null Counts"
   ]
  },
  {
   "cell_type": "code",
   "execution_count": 82,
   "metadata": {},
   "outputs": [
    {
     "name": "stdout",
     "output_type": "stream",
     "text": [
      "*** COUNTING NULL VALUES IN THE DATA ***\n",
      "+----+---------+------+--------+--------+------+------------+\n",
      "|host|timestamp|method|endpoint|protocol|status|content_size|\n",
      "+----+---------+------+--------+--------+------+------------+\n",
      "|   0|        0|     0|       0|       0|     0|        6341|\n",
      "+----+---------+------+--------+--------+------+------------+\n",
      "\n"
     ]
    }
   ],
   "source": [
    "from pyspark.sql.functions import col\n",
    "from pyspark.sql.functions import sum as ssum\n",
    "\n",
    "def count_null(col_name):\n",
    "    return ssum(col(col_name).isNull().cast('integer')).alias(col_name)\n",
    "\n",
    "print(\"*** COUNTING NULL VALUES IN THE DATA ***\")\n",
    "\n",
    "exprs = [count_null(col_name) for col_name in logs_df.columns]\n",
    "\n",
    "logs_df.agg(*exprs).show()"
   ]
  },
  {
   "cell_type": "markdown",
   "metadata": {},
   "source": [
    "### Fix the rows with null content_size"
   ]
  },
  {
   "cell_type": "code",
   "execution_count": 83,
   "metadata": {},
   "outputs": [
    {
     "name": "stdout",
     "output_type": "stream",
     "text": [
      "*** SETTING NULL VALUES TO ZERO ***\n",
      "+----+---------+------+--------+--------+------+------------+\n",
      "|host|timestamp|method|endpoint|protocol|status|content_size|\n",
      "+----+---------+------+--------+--------+------+------------+\n",
      "|   0|        0|     0|       0|       0|     0|           0|\n",
      "+----+---------+------+--------+--------+------+------------+\n",
      "\n"
     ]
    }
   ],
   "source": [
    "print(\"*** SETTING NULL VALUES TO ZERO ***\")\n",
    "logs_df = logs_df.na.fill({\"content_size\": 0})\n",
    "exprs = [count_null(col_name) for col_name in logs_df.columns]\n",
    "logs_df.agg(*exprs).show()"
   ]
  },
  {
   "cell_type": "markdown",
   "metadata": {},
   "source": [
    "### Parsing timestamp to readable date"
   ]
  },
  {
   "cell_type": "code",
   "execution_count": 84,
   "metadata": {},
   "outputs": [
    {
     "name": "stdout",
     "output_type": "stream",
     "text": [
      "*** PARSING TIMESTAMP TO READABLE DATE ***\n",
      "+---------------+------+--------------------+--------+------+------------+--------------------+\n",
      "|           host|method|            endpoint|protocol|status|content_size|                time|\n",
      "+---------------+------+--------------------+--------+------+------------+--------------------+\n",
      "|109.169.248.247|   GET|     /administrator/|HTTP/1.1|   200|        4263|2015-12-12 18:25:...|\n",
      "|109.169.248.247|  POST|/administrator/in...|HTTP/1.1|   200|        4494|2015-12-12 18:25:...|\n",
      "|    46.72.177.4|   GET|     /administrator/|HTTP/1.1|   200|        4263|2015-12-12 18:31:...|\n",
      "|    46.72.177.4|  POST|/administrator/in...|HTTP/1.1|   200|        4494|2015-12-12 18:31:...|\n",
      "| 83.167.113.100|   GET|     /administrator/|HTTP/1.1|   200|        4263|2015-12-12 18:31:...|\n",
      "| 83.167.113.100|  POST|/administrator/in...|HTTP/1.1|   200|        4494|2015-12-12 18:31:...|\n",
      "|   95.29.198.15|   GET|     /administrator/|HTTP/1.1|   200|        4263|2015-12-12 18:32:...|\n",
      "|   95.29.198.15|  POST|/administrator/in...|HTTP/1.1|   200|        4494|2015-12-12 18:32:...|\n",
      "|  109.184.11.34|   GET|     /administrator/|HTTP/1.1|   200|        4263|2015-12-12 18:32:...|\n",
      "|  109.184.11.34|  POST|/administrator/in...|HTTP/1.1|   200|        4494|2015-12-12 18:32:...|\n",
      "+---------------+------+--------------------+--------+------+------------+--------------------+\n",
      "only showing top 10 rows\n",
      "\n"
     ]
    }
   ],
   "source": [
    "from pyspark.sql.functions import udf\n",
    "\n",
    "month_dict = {\n",
    "  'Jan': 1, 'Feb': 2, 'Mar':3, 'Apr':4, 'May':5, 'Jun':6, 'Jul':7,\n",
    "  'Aug':8,  'Sep': 9, 'Oct':10, 'Nov': 11, 'Dec': 12\n",
    "}\n",
    "\n",
    "def parse_time(text):\n",
    "    return \"{0:04d}-{1:02d}-{2:02d} {3:02d}:{4:02d}:{5:02d}\".format(\n",
    "      int(text[7:11]),\n",
    "      month_dict[text[3:6]],\n",
    "      int(text[0:2]),\n",
    "      int(text[12:14]),\n",
    "      int(text[15:17]),\n",
    "      int(text[18:20])\n",
    "    )\n",
    "\n",
    "print(\"*** PARSING TIMESTAMP TO READABLE DATE ***\")\n",
    "udf_parse_time = udf(parse_time)\n",
    "\n",
    "logs_df = logs_df.select('*', udf_parse_time(logs_df['timestamp']).cast('timestamp').alias('time')).drop('timestamp')\n",
    "logs_df.show(10, truncate=True)"
   ]
  },
  {
   "cell_type": "code",
   "execution_count": 85,
   "metadata": {},
   "outputs": [
    {
     "name": "stdout",
     "output_type": "stream",
     "text": [
      "*** DATA SCHEMA ***\n",
      "root\n",
      " |-- host: string (nullable = true)\n",
      " |-- method: string (nullable = true)\n",
      " |-- endpoint: string (nullable = true)\n",
      " |-- protocol: string (nullable = true)\n",
      " |-- status: integer (nullable = true)\n",
      " |-- content_size: integer (nullable = false)\n",
      " |-- time: timestamp (nullable = true)\n",
      "\n"
     ]
    }
   ],
   "source": [
    "print(\"*** DATA SCHEMA ***\")\n",
    "logs_df.printSchema()"
   ]
  },
  {
   "cell_type": "code",
   "execution_count": 86,
   "metadata": {},
   "outputs": [
    {
     "data": {
      "text/html": [
       "<div>\n",
       "<style scoped>\n",
       "    .dataframe tbody tr th:only-of-type {\n",
       "        vertical-align: middle;\n",
       "    }\n",
       "\n",
       "    .dataframe tbody tr th {\n",
       "        vertical-align: top;\n",
       "    }\n",
       "\n",
       "    .dataframe thead th {\n",
       "        text-align: right;\n",
       "    }\n",
       "</style>\n",
       "<table border=\"1\" class=\"dataframe\">\n",
       "  <thead>\n",
       "    <tr style=\"text-align: right;\">\n",
       "      <th></th>\n",
       "      <th>host</th>\n",
       "      <th>method</th>\n",
       "      <th>endpoint</th>\n",
       "      <th>protocol</th>\n",
       "      <th>status</th>\n",
       "      <th>content_size</th>\n",
       "      <th>time</th>\n",
       "    </tr>\n",
       "  </thead>\n",
       "  <tbody>\n",
       "    <tr>\n",
       "      <th>0</th>\n",
       "      <td>109.169.248.247</td>\n",
       "      <td>GET</td>\n",
       "      <td>/administrator/</td>\n",
       "      <td>HTTP/1.1</td>\n",
       "      <td>200</td>\n",
       "      <td>4263</td>\n",
       "      <td>2015-12-12 18:25:11</td>\n",
       "    </tr>\n",
       "    <tr>\n",
       "      <th>1</th>\n",
       "      <td>109.169.248.247</td>\n",
       "      <td>POST</td>\n",
       "      <td>/administrator/index.php</td>\n",
       "      <td>HTTP/1.1</td>\n",
       "      <td>200</td>\n",
       "      <td>4494</td>\n",
       "      <td>2015-12-12 18:25:11</td>\n",
       "    </tr>\n",
       "    <tr>\n",
       "      <th>2</th>\n",
       "      <td>46.72.177.4</td>\n",
       "      <td>GET</td>\n",
       "      <td>/administrator/</td>\n",
       "      <td>HTTP/1.1</td>\n",
       "      <td>200</td>\n",
       "      <td>4263</td>\n",
       "      <td>2015-12-12 18:31:08</td>\n",
       "    </tr>\n",
       "    <tr>\n",
       "      <th>3</th>\n",
       "      <td>46.72.177.4</td>\n",
       "      <td>POST</td>\n",
       "      <td>/administrator/index.php</td>\n",
       "      <td>HTTP/1.1</td>\n",
       "      <td>200</td>\n",
       "      <td>4494</td>\n",
       "      <td>2015-12-12 18:31:08</td>\n",
       "    </tr>\n",
       "    <tr>\n",
       "      <th>4</th>\n",
       "      <td>83.167.113.100</td>\n",
       "      <td>GET</td>\n",
       "      <td>/administrator/</td>\n",
       "      <td>HTTP/1.1</td>\n",
       "      <td>200</td>\n",
       "      <td>4263</td>\n",
       "      <td>2015-12-12 18:31:25</td>\n",
       "    </tr>\n",
       "  </tbody>\n",
       "</table>\n",
       "</div>"
      ],
      "text/plain": [
       "              host method                  endpoint  protocol  status  \\\n",
       "0  109.169.248.247    GET           /administrator/  HTTP/1.1     200   \n",
       "1  109.169.248.247   POST  /administrator/index.php  HTTP/1.1     200   \n",
       "2      46.72.177.4    GET           /administrator/  HTTP/1.1     200   \n",
       "3      46.72.177.4   POST  /administrator/index.php  HTTP/1.1     200   \n",
       "4   83.167.113.100    GET           /administrator/  HTTP/1.1     200   \n",
       "\n",
       "   content_size                time  \n",
       "0          4263 2015-12-12 18:25:11  \n",
       "1          4494 2015-12-12 18:25:11  \n",
       "2          4263 2015-12-12 18:31:08  \n",
       "3          4494 2015-12-12 18:31:08  \n",
       "4          4263 2015-12-12 18:31:25  "
      ]
     },
     "execution_count": 86,
     "metadata": {},
     "output_type": "execute_result"
    }
   ],
   "source": [
    "logs_df.limit(5).toPandas()"
   ]
  },
  {
   "cell_type": "code",
   "execution_count": 87,
   "metadata": {},
   "outputs": [
    {
     "data": {
      "text/plain": [
       "DataFrame[host: string, method: string, endpoint: string, protocol: string, status: int, content_size: int, time: timestamp]"
      ]
     },
     "execution_count": 87,
     "metadata": {},
     "output_type": "execute_result"
    }
   ],
   "source": [
    "logs_df.cache()"
   ]
  },
  {
   "cell_type": "markdown",
   "metadata": {},
   "source": [
    "### Analysis on Web Logs"
   ]
  },
  {
   "cell_type": "markdown",
   "metadata": {},
   "source": [
    "### 1. HTTP Status Code Analysis"
   ]
  },
  {
   "cell_type": "code",
   "execution_count": 88,
   "metadata": {},
   "outputs": [
    {
     "name": "stdout",
     "output_type": "stream",
     "text": [
      "*** WHICH HTTP STATUS VALUES APPEAR IN DATA AND HOW MANY TIMES ***\n",
      "('Total distinct HTTP Status Codes:', 14)\n"
     ]
    },
    {
     "data": {
      "text/html": [
       "<div>\n",
       "<style scoped>\n",
       "    .dataframe tbody tr th:only-of-type {\n",
       "        vertical-align: middle;\n",
       "    }\n",
       "\n",
       "    .dataframe tbody tr th {\n",
       "        vertical-align: top;\n",
       "    }\n",
       "\n",
       "    .dataframe thead th {\n",
       "        text-align: right;\n",
       "    }\n",
       "</style>\n",
       "<table border=\"1\" class=\"dataframe\">\n",
       "  <thead>\n",
       "    <tr style=\"text-align: right;\">\n",
       "      <th></th>\n",
       "      <th>status</th>\n",
       "      <th>count</th>\n",
       "    </tr>\n",
       "  </thead>\n",
       "  <tbody>\n",
       "    <tr>\n",
       "      <th>0</th>\n",
       "      <td>200</td>\n",
       "      <td>1157832</td>\n",
       "    </tr>\n",
       "    <tr>\n",
       "      <th>1</th>\n",
       "      <td>206</td>\n",
       "      <td>939929</td>\n",
       "    </tr>\n",
       "    <tr>\n",
       "      <th>8</th>\n",
       "      <td>404</td>\n",
       "      <td>227101</td>\n",
       "    </tr>\n",
       "    <tr>\n",
       "      <th>4</th>\n",
       "      <td>304</td>\n",
       "      <td>6330</td>\n",
       "    </tr>\n",
       "    <tr>\n",
       "      <th>12</th>\n",
       "      <td>500</td>\n",
       "      <td>3252</td>\n",
       "    </tr>\n",
       "    <tr>\n",
       "      <th>7</th>\n",
       "      <td>403</td>\n",
       "      <td>2222</td>\n",
       "    </tr>\n",
       "    <tr>\n",
       "      <th>2</th>\n",
       "      <td>301</td>\n",
       "      <td>619</td>\n",
       "    </tr>\n",
       "    <tr>\n",
       "      <th>3</th>\n",
       "      <td>303</td>\n",
       "      <td>247</td>\n",
       "    </tr>\n",
       "    <tr>\n",
       "      <th>6</th>\n",
       "      <td>401</td>\n",
       "      <td>153</td>\n",
       "    </tr>\n",
       "    <tr>\n",
       "      <th>13</th>\n",
       "      <td>501</td>\n",
       "      <td>143</td>\n",
       "    </tr>\n",
       "    <tr>\n",
       "      <th>9</th>\n",
       "      <td>405</td>\n",
       "      <td>83</td>\n",
       "    </tr>\n",
       "    <tr>\n",
       "      <th>10</th>\n",
       "      <td>406</td>\n",
       "      <td>53</td>\n",
       "    </tr>\n",
       "    <tr>\n",
       "      <th>5</th>\n",
       "      <td>400</td>\n",
       "      <td>23</td>\n",
       "    </tr>\n",
       "    <tr>\n",
       "      <th>11</th>\n",
       "      <td>412</td>\n",
       "      <td>19</td>\n",
       "    </tr>\n",
       "  </tbody>\n",
       "</table>\n",
       "</div>"
      ],
      "text/plain": [
       "    status    count\n",
       "0      200  1157832\n",
       "1      206   939929\n",
       "8      404   227101\n",
       "4      304     6330\n",
       "12     500     3252\n",
       "7      403     2222\n",
       "2      301      619\n",
       "3      303      247\n",
       "6      401      153\n",
       "13     501      143\n",
       "9      405       83\n",
       "10     406       53\n",
       "5      400       23\n",
       "11     412       19"
      ]
     },
     "execution_count": 88,
     "metadata": {},
     "output_type": "execute_result"
    }
   ],
   "source": [
    "# Describe which HTTP status values appear in data and how many.\n",
    "\n",
    "print(\"*** WHICH HTTP STATUS VALUES APPEAR IN DATA AND HOW MANY TIMES ***\")\n",
    "status_freq_df = logs_df \\\n",
    "                     .groupBy('status') \\\n",
    "                     .count() \\\n",
    "                     .sort('status') \\\n",
    "                     .cache()\n",
    "print('Total distinct HTTP Status Codes:', status_freq_df.count())\n",
    "\n",
    "status_freq_pd_df = (status_freq_df \\\n",
    "                         .toPandas() \\\n",
    "                         .sort_values(by=['count'], ascending=False))\n",
    "status_freq_pd_df"
   ]
  },
  {
   "cell_type": "code",
   "execution_count": 89,
   "metadata": {},
   "outputs": [
    {
     "data": {
      "image/png": "[encoded data removed]",
      "text/plain": [
       "<matplotlib.figure.Figure at 0x7f70b1901b90>"
      ]
     },
     "metadata": {},
     "output_type": "display_data"
    }
   ],
   "source": [
    "import matplotlib.pyplot as plt\n",
    "import seaborn as sns\n",
    "import numpy as np\n",
    "%matplotlib inline\n",
    "\n",
    "sns.barplot(x='status', y='count', data=status_freq_pd_df, order=status_freq_pd_df['status']);"
   ]
  },
  {
   "cell_type": "markdown",
   "metadata": {},
   "source": [
    "### Analyzing Frequent Hosts"
   ]
  },
  {
   "cell_type": "code",
   "execution_count": 90,
   "metadata": {},
   "outputs": [
    {
     "name": "stdout",
     "output_type": "stream",
     "text": [
      "*** HOSTS AND THEIR AVERAGE REQUEST ***\n",
      "+--------------+------+\n",
      "|host          |count |\n",
      "+--------------+------+\n",
      "|198.50.156.189|167812|\n",
      "|5.112.235.245 |166722|\n",
      "|5.114.231.216 |158258|\n",
      "|5.113.18.208  |157674|\n",
      "|91.218.225.68 |134376|\n",
      "|79.62.229.212 |114799|\n",
      "|149.56.83.40  |97533 |\n",
      "|5.114.64.184  |94043 |\n",
      "|5.113.216.211 |89125 |\n",
      "|158.69.5.181  |88875 |\n",
      "+--------------+------+\n",
      "\n"
     ]
    }
   ],
   "source": [
    "print(\"*** HOSTS AND THEIR AVERAGE REQUEST ***\")\n",
    "host_sum_df =(logs_df \\\n",
    "               .groupBy('host') \\\n",
    "               .count() \\\n",
    "               .sort('count', ascending=False).limit(10))\n",
    "\n",
    "host_sum_df.show(truncate=False)"
   ]
  },
  {
   "cell_type": "markdown",
   "metadata": {},
   "source": [
    "### Top 20 Frequent EndPoints"
   ]
  },
  {
   "cell_type": "code",
   "execution_count": 91,
   "metadata": {},
   "outputs": [
    {
     "data": {
      "text/html": [
       "<div>\n",
       "<style scoped>\n",
       "    .dataframe tbody tr th:only-of-type {\n",
       "        vertical-align: middle;\n",
       "    }\n",
       "\n",
       "    .dataframe tbody tr th {\n",
       "        vertical-align: top;\n",
       "    }\n",
       "\n",
       "    .dataframe thead th {\n",
       "        text-align: right;\n",
       "    }\n",
       "</style>\n",
       "<table border=\"1\" class=\"dataframe\">\n",
       "  <thead>\n",
       "    <tr style=\"text-align: right;\">\n",
       "      <th></th>\n",
       "      <th>endpoint</th>\n",
       "      <th>count</th>\n",
       "    </tr>\n",
       "  </thead>\n",
       "  <tbody>\n",
       "    <tr>\n",
       "      <th>0</th>\n",
       "      <td>/apache-log/access.log</td>\n",
       "      <td>1002178</td>\n",
       "    </tr>\n",
       "    <tr>\n",
       "      <th>1</th>\n",
       "      <td>/administrator/index.php</td>\n",
       "      <td>582264</td>\n",
       "    </tr>\n",
       "    <tr>\n",
       "      <th>2</th>\n",
       "      <td>/administrator/</td>\n",
       "      <td>58434</td>\n",
       "    </tr>\n",
       "    <tr>\n",
       "      <th>3</th>\n",
       "      <td>/</td>\n",
       "      <td>24273</td>\n",
       "    </tr>\n",
       "    <tr>\n",
       "      <th>4</th>\n",
       "      <td>/templates/_system/css/general.css</td>\n",
       "      <td>21347</td>\n",
       "    </tr>\n",
       "    <tr>\n",
       "      <th>5</th>\n",
       "      <td>http://almhuette-raith.at/administrator/index.php</td>\n",
       "      <td>18009</td>\n",
       "    </tr>\n",
       "    <tr>\n",
       "      <th>6</th>\n",
       "      <td>/robots.txt</td>\n",
       "      <td>11959</td>\n",
       "    </tr>\n",
       "    <tr>\n",
       "      <th>7</th>\n",
       "      <td>/favicon.ico</td>\n",
       "      <td>9025</td>\n",
       "    </tr>\n",
       "    <tr>\n",
       "      <th>8</th>\n",
       "      <td>/wp-login.php</td>\n",
       "      <td>6547</td>\n",
       "    </tr>\n",
       "    <tr>\n",
       "      <th>9</th>\n",
       "      <td>/apache-log/</td>\n",
       "      <td>6402</td>\n",
       "    </tr>\n",
       "    <tr>\n",
       "      <th>10</th>\n",
       "      <td>/images/stories/slideshow/almhuette_raith_01.jpg</td>\n",
       "      <td>5984</td>\n",
       "    </tr>\n",
       "    <tr>\n",
       "      <th>11</th>\n",
       "      <td>/images/stories/slideshow/almhuette_raith_02.jpg</td>\n",
       "      <td>5759</td>\n",
       "    </tr>\n",
       "    <tr>\n",
       "      <th>12</th>\n",
       "      <td>/templates/jp_hotel/css/template.css</td>\n",
       "      <td>5680</td>\n",
       "    </tr>\n",
       "    <tr>\n",
       "      <th>13</th>\n",
       "      <td>/media/system/js/mootools.js</td>\n",
       "      <td>5676</td>\n",
       "    </tr>\n",
       "    <tr>\n",
       "      <th>14</th>\n",
       "      <td>/templates/jp_hotel/js/moomenu.js</td>\n",
       "      <td>5579</td>\n",
       "    </tr>\n",
       "    <tr>\n",
       "      <th>15</th>\n",
       "      <td>/modules/mod_bowslideshow/tmpl/js/sliderman.1....</td>\n",
       "      <td>5537</td>\n",
       "    </tr>\n",
       "    <tr>\n",
       "      <th>16</th>\n",
       "      <td>/templates/jp_hotel/css/layout.css</td>\n",
       "      <td>5273</td>\n",
       "    </tr>\n",
       "    <tr>\n",
       "      <th>17</th>\n",
       "      <td>/modules/mod_bowslideshow/tmpl/css/bowslidesho...</td>\n",
       "      <td>5258</td>\n",
       "    </tr>\n",
       "    <tr>\n",
       "      <th>18</th>\n",
       "      <td>/templates/jp_hotel/css/menu.css</td>\n",
       "      <td>5255</td>\n",
       "    </tr>\n",
       "    <tr>\n",
       "      <th>19</th>\n",
       "      <td>/templates/jp_hotel/css/suckerfish.css</td>\n",
       "      <td>5255</td>\n",
       "    </tr>\n",
       "  </tbody>\n",
       "</table>\n",
       "</div>"
      ],
      "text/plain": [
       "                                             endpoint    count\n",
       "0                              /apache-log/access.log  1002178\n",
       "1                            /administrator/index.php   582264\n",
       "2                                     /administrator/    58434\n",
       "3                                                   /    24273\n",
       "4                  /templates/_system/css/general.css    21347\n",
       "5   http://almhuette-raith.at/administrator/index.php    18009\n",
       "6                                         /robots.txt    11959\n",
       "7                                        /favicon.ico     9025\n",
       "8                                       /wp-login.php     6547\n",
       "9                                        /apache-log/     6402\n",
       "10   /images/stories/slideshow/almhuette_raith_01.jpg     5984\n",
       "11   /images/stories/slideshow/almhuette_raith_02.jpg     5759\n",
       "12               /templates/jp_hotel/css/template.css     5680\n",
       "13                       /media/system/js/mootools.js     5676\n",
       "14                  /templates/jp_hotel/js/moomenu.js     5579\n",
       "15  /modules/mod_bowslideshow/tmpl/js/sliderman.1....     5537\n",
       "16                 /templates/jp_hotel/css/layout.css     5273\n",
       "17  /modules/mod_bowslideshow/tmpl/css/bowslidesho...     5258\n",
       "18                   /templates/jp_hotel/css/menu.css     5255\n",
       "19             /templates/jp_hotel/css/suckerfish.css     5255"
      ]
     },
     "execution_count": 91,
     "metadata": {},
     "output_type": "execute_result"
    }
   ],
   "source": [
    "paths_df = (logs_df\n",
    "            .groupBy('endpoint')\n",
    "            .count()\n",
    "            .sort('count', ascending=False).limit(20))\n",
    "\n",
    "paths_pd_df = paths_df.toPandas()\n",
    "paths_pd_df"
   ]
  },
  {
   "cell_type": "markdown",
   "metadata": {},
   "source": [
    "### Top Ten Error Endpoints"
   ]
  },
  {
   "cell_type": "code",
   "execution_count": 92,
   "metadata": {},
   "outputs": [
    {
     "name": "stdout",
     "output_type": "stream",
     "text": [
      "+----------------------------------------------------------+------+\n",
      "|endpoint                                                  |count |\n",
      "+----------------------------------------------------------+------+\n",
      "|/apache-log/access.log                                    |938011|\n",
      "|/templates/_system/css/general.css                        |21347 |\n",
      "|/favicon.ico                                              |9025  |\n",
      "|/wp-login.php                                             |6547  |\n",
      "|/apache-log/favicon.ico                                   |2917  |\n",
      "|/apple-touch-icon.png                                     |1509  |\n",
      "|/apple-touch-icon-precomposed.png                         |1459  |\n",
      "|/apple-touch-icon-120x120-precomposed.png                 |1335  |\n",
      "|/apple-touch-icon-120x120.png                             |1334  |\n",
      "|/index.php?option=com_easyblog&view=dashboard&layout=write|806   |\n",
      "+----------------------------------------------------------+------+\n",
      "\n"
     ]
    }
   ],
   "source": [
    "not200_df = logs_df.filter(logs_df['status'] != 200)\n",
    "\n",
    "error_endpoints_freq_df = (not200_df\n",
    "                               .groupBy('endpoint')\n",
    "                               .count()\n",
    "                               .sort('count', ascending=False)\n",
    "                               .limit(10))\n",
    "                           \n",
    "error_endpoints_freq_df.show(truncate=False)"
   ]
  },
  {
   "cell_type": "markdown",
   "metadata": {},
   "source": [
    "### Total number of Unique Hosts"
   ]
  },
  {
   "cell_type": "code",
   "execution_count": 93,
   "metadata": {},
   "outputs": [
    {
     "name": "stdout",
     "output_type": "stream",
     "text": [
      "*** NUMBER OF UNIQUE HOSTS IN THE ENTIRE LOG ***\n",
      "40836\n"
     ]
    }
   ],
   "source": [
    "print(\"*** NUMBER OF UNIQUE HOSTS IN THE ENTIRE LOG ***\")\n",
    "unique_host_count = logs_df.select('host').distinct().count()\n",
    "print(unique_host_count)"
   ]
  },
  {
   "cell_type": "markdown",
   "metadata": {},
   "source": [
    "### Number of Unique Daily Hosts"
   ]
  },
  {
   "cell_type": "code",
   "execution_count": 94,
   "metadata": {},
   "outputs": [
    {
     "data": {
      "text/html": [
       "<div>\n",
       "<style scoped>\n",
       "    .dataframe tbody tr th:only-of-type {\n",
       "        vertical-align: middle;\n",
       "    }\n",
       "\n",
       "    .dataframe tbody tr th {\n",
       "        vertical-align: top;\n",
       "    }\n",
       "\n",
       "    .dataframe thead th {\n",
       "        text-align: right;\n",
       "    }\n",
       "</style>\n",
       "<table border=\"1\" class=\"dataframe\">\n",
       "  <thead>\n",
       "    <tr style=\"text-align: right;\">\n",
       "      <th></th>\n",
       "      <th>day</th>\n",
       "      <th>count</th>\n",
       "    </tr>\n",
       "  </thead>\n",
       "  <tbody>\n",
       "    <tr>\n",
       "      <th>0</th>\n",
       "      <td>1</td>\n",
       "      <td>113876</td>\n",
       "    </tr>\n",
       "    <tr>\n",
       "      <th>1</th>\n",
       "      <td>2</td>\n",
       "      <td>26786</td>\n",
       "    </tr>\n",
       "    <tr>\n",
       "      <th>2</th>\n",
       "      <td>3</td>\n",
       "      <td>20291</td>\n",
       "    </tr>\n",
       "    <tr>\n",
       "      <th>3</th>\n",
       "      <td>4</td>\n",
       "      <td>49755</td>\n",
       "    </tr>\n",
       "    <tr>\n",
       "      <th>4</th>\n",
       "      <td>5</td>\n",
       "      <td>76700</td>\n",
       "    </tr>\n",
       "    <tr>\n",
       "      <th>5</th>\n",
       "      <td>6</td>\n",
       "      <td>55883</td>\n",
       "    </tr>\n",
       "    <tr>\n",
       "      <th>6</th>\n",
       "      <td>7</td>\n",
       "      <td>19931</td>\n",
       "    </tr>\n",
       "    <tr>\n",
       "      <th>7</th>\n",
       "      <td>8</td>\n",
       "      <td>113101</td>\n",
       "    </tr>\n",
       "    <tr>\n",
       "      <th>8</th>\n",
       "      <td>9</td>\n",
       "      <td>22953</td>\n",
       "    </tr>\n",
       "    <tr>\n",
       "      <th>9</th>\n",
       "      <td>10</td>\n",
       "      <td>95588</td>\n",
       "    </tr>\n",
       "    <tr>\n",
       "      <th>10</th>\n",
       "      <td>11</td>\n",
       "      <td>23131</td>\n",
       "    </tr>\n",
       "    <tr>\n",
       "      <th>11</th>\n",
       "      <td>12</td>\n",
       "      <td>16621</td>\n",
       "    </tr>\n",
       "    <tr>\n",
       "      <th>12</th>\n",
       "      <td>13</td>\n",
       "      <td>19576</td>\n",
       "    </tr>\n",
       "    <tr>\n",
       "      <th>13</th>\n",
       "      <td>14</td>\n",
       "      <td>21622</td>\n",
       "    </tr>\n",
       "    <tr>\n",
       "      <th>14</th>\n",
       "      <td>15</td>\n",
       "      <td>19277</td>\n",
       "    </tr>\n",
       "    <tr>\n",
       "      <th>15</th>\n",
       "      <td>16</td>\n",
       "      <td>31946</td>\n",
       "    </tr>\n",
       "    <tr>\n",
       "      <th>16</th>\n",
       "      <td>17</td>\n",
       "      <td>33304</td>\n",
       "    </tr>\n",
       "    <tr>\n",
       "      <th>17</th>\n",
       "      <td>18</td>\n",
       "      <td>120926</td>\n",
       "    </tr>\n",
       "    <tr>\n",
       "      <th>18</th>\n",
       "      <td>19</td>\n",
       "      <td>67425</td>\n",
       "    </tr>\n",
       "    <tr>\n",
       "      <th>19</th>\n",
       "      <td>20</td>\n",
       "      <td>42741</td>\n",
       "    </tr>\n",
       "    <tr>\n",
       "      <th>20</th>\n",
       "      <td>21</td>\n",
       "      <td>296066</td>\n",
       "    </tr>\n",
       "    <tr>\n",
       "      <th>21</th>\n",
       "      <td>22</td>\n",
       "      <td>22193</td>\n",
       "    </tr>\n",
       "    <tr>\n",
       "      <th>22</th>\n",
       "      <td>23</td>\n",
       "      <td>132726</td>\n",
       "    </tr>\n",
       "    <tr>\n",
       "      <th>23</th>\n",
       "      <td>24</td>\n",
       "      <td>172116</td>\n",
       "    </tr>\n",
       "    <tr>\n",
       "      <th>24</th>\n",
       "      <td>25</td>\n",
       "      <td>21605</td>\n",
       "    </tr>\n",
       "    <tr>\n",
       "      <th>25</th>\n",
       "      <td>26</td>\n",
       "      <td>50887</td>\n",
       "    </tr>\n",
       "    <tr>\n",
       "      <th>26</th>\n",
       "      <td>27</td>\n",
       "      <td>372347</td>\n",
       "    </tr>\n",
       "    <tr>\n",
       "      <th>27</th>\n",
       "      <td>28</td>\n",
       "      <td>239145</td>\n",
       "    </tr>\n",
       "    <tr>\n",
       "      <th>28</th>\n",
       "      <td>29</td>\n",
       "      <td>16703</td>\n",
       "    </tr>\n",
       "    <tr>\n",
       "      <th>29</th>\n",
       "      <td>30</td>\n",
       "      <td>11699</td>\n",
       "    </tr>\n",
       "    <tr>\n",
       "      <th>30</th>\n",
       "      <td>31</td>\n",
       "      <td>11086</td>\n",
       "    </tr>\n",
       "  </tbody>\n",
       "</table>\n",
       "</div>"
      ],
      "text/plain": [
       "    day   count\n",
       "0     1  113876\n",
       "1     2   26786\n",
       "2     3   20291\n",
       "3     4   49755\n",
       "4     5   76700\n",
       "5     6   55883\n",
       "6     7   19931\n",
       "7     8  113101\n",
       "8     9   22953\n",
       "9    10   95588\n",
       "10   11   23131\n",
       "11   12   16621\n",
       "12   13   19576\n",
       "13   14   21622\n",
       "14   15   19277\n",
       "15   16   31946\n",
       "16   17   33304\n",
       "17   18  120926\n",
       "18   19   67425\n",
       "19   20   42741\n",
       "20   21  296066\n",
       "21   22   22193\n",
       "22   23  132726\n",
       "23   24  172116\n",
       "24   25   21605\n",
       "25   26   50887\n",
       "26   27  372347\n",
       "27   28  239145\n",
       "28   29   16703\n",
       "29   30   11699\n",
       "30   31   11086"
      ]
     },
     "execution_count": 94,
     "metadata": {},
     "output_type": "execute_result"
    }
   ],
   "source": [
    "host_day_df = logs_df.select(logs_df.host, \n",
    "                             F.dayofmonth('time').alias('day'))\n",
    "\n",
    "daily_hosts_df = (host_day_df\n",
    "                     .groupBy('day')\n",
    "                     .count()\n",
    "                     .sort(\"day\"))\n",
    "\n",
    "daily_hosts_df = daily_hosts_df.toPandas()\n",
    "daily_hosts_df"
   ]
  },
  {
   "cell_type": "code",
   "execution_count": 95,
   "metadata": {},
   "outputs": [
    {
     "data": {
      "image/png": "[encoded data removed]",
      "text/plain": [
       "<matplotlib.figure.Figure at 0x7f70b17a1190>"
      ]
     },
     "metadata": {},
     "output_type": "display_data"
    }
   ],
   "source": [
    "sns.pointplot(x='day', y='count', data=daily_hosts_df)\n",
    "plt.xticks(rotation=60)\n",
    "plt.tight_layout();"
   ]
  },
  {
   "cell_type": "markdown",
   "metadata": {},
   "source": [
    "### Counting 404 Response Codes"
   ]
  },
  {
   "cell_type": "code",
   "execution_count": 96,
   "metadata": {},
   "outputs": [
    {
     "name": "stdout",
     "output_type": "stream",
     "text": [
      "Total 404 responses: 227101\n"
     ]
    }
   ],
   "source": [
    "not_found_df = logs_df.filter(logs_df['status'] == 404)\n",
    "print('Total 404 responses: {}'.format(not_found_df.count()))"
   ]
  },
  {
   "cell_type": "markdown",
   "metadata": {},
   "source": [
    "### Top Twenty 404 Response Code Endpoints"
   ]
  },
  {
   "cell_type": "code",
   "execution_count": 97,
   "metadata": {},
   "outputs": [
    {
     "name": "stdout",
     "output_type": "stream",
     "text": [
      "+----------------------------------------------------------+-----+\n",
      "|endpoint                                                  |count|\n",
      "+----------------------------------------------------------+-----+\n",
      "|/templates/_system/css/general.css                        |21347|\n",
      "|/favicon.ico                                              |9025 |\n",
      "|/wp-login.php                                             |6547 |\n",
      "|/apache-log/favicon.ico                                   |2917 |\n",
      "|/apple-touch-icon.png                                     |1509 |\n",
      "|/apple-touch-icon-precomposed.png                         |1459 |\n",
      "|/apple-touch-icon-120x120-precomposed.png                 |1335 |\n",
      "|/apple-touch-icon-120x120.png                             |1334 |\n",
      "|/index.php?option=com_easyblog&view=dashboard&layout=write|806  |\n",
      "|/wp-login.php?action=register                             |726  |\n",
      "|/index.php?option=com_users&view=registration             |495  |\n",
      "|/icons/back.gif                                           |444  |\n",
      "|/icons/blank.gif                                          |441  |\n",
      "|/icons/text.gif                                           |425  |\n",
      "|/libraries/joomla/exporter.php                            |200  |\n",
      "|/xmlrpc.php?rsd                                           |135  |\n",
      "|/modules/mod_araticllws/mod_araticllws.php                |122  |\n",
      "|/sitemap.xml                                              |117  |\n",
      "|//images/stories/explore.gif                              |104  |\n",
      "|/apple-touch-icon-152x152-precomposed.png                 |95   |\n",
      "+----------------------------------------------------------+-----+\n",
      "\n"
     ]
    }
   ],
   "source": [
    "endpoints_404_count_df = (not_found_df\n",
    "                          .groupBy(\"endpoint\")\n",
    "                          .count()\n",
    "                          .sort(\"count\", ascending=False)\n",
    "                          .limit(20))\n",
    "\n",
    "endpoints_404_count_df.show(truncate=False)"
   ]
  },
  {
   "cell_type": "markdown",
   "metadata": {},
   "source": [
    "### Top Twenty 404 Response Code Hosts"
   ]
  },
  {
   "cell_type": "code",
   "execution_count": 98,
   "metadata": {},
   "outputs": [
    {
     "name": "stdout",
     "output_type": "stream",
     "text": [
      "+---------------+-----+\n",
      "|host           |count|\n",
      "+---------------+-----+\n",
      "|79.62.229.212  |85479|\n",
      "|91.218.225.68  |49669|\n",
      "|199.19.249.196 |7512 |\n",
      "|128.74.162.38  |2005 |\n",
      "|185.100.222.119|1289 |\n",
      "|194.63.141.238 |1154 |\n",
      "|62.46.187.218  |1140 |\n",
      "|205.167.170.15 |948  |\n",
      "|158.64.79.8    |909  |\n",
      "|52.22.118.215  |732  |\n",
      "|158.64.79.7    |690  |\n",
      "|87.242.64.194  |681  |\n",
      "|46.105.96.187  |559  |\n",
      "|178.210.90.90  |468  |\n",
      "|46.188.125.44  |452  |\n",
      "|94.60.38.241   |408  |\n",
      "|85.10.113.129  |388  |\n",
      "|188.23.224.79  |350  |\n",
      "|185.25.63.136  |334  |\n",
      "|162.242.255.101|298  |\n",
      "+---------------+-----+\n",
      "\n"
     ]
    }
   ],
   "source": [
    "hosts_404_count_df = (not_found_df\n",
    "                          .groupBy(\"host\")\n",
    "                          .count()\n",
    "                          .sort(\"count\", ascending=False)\n",
    "                          .limit(20))\n",
    "\n",
    "hosts_404_count_df.show(truncate=False)"
   ]
  },
  {
   "cell_type": "markdown",
   "metadata": {},
   "source": [
    "### 404 Errors per Day"
   ]
  },
  {
   "cell_type": "code",
   "execution_count": 99,
   "metadata": {},
   "outputs": [
    {
     "data": {
      "image/png": "[encoded data removed]",
      "text/plain": [
       "<matplotlib.figure.Figure at 0x7f70b144eed0>"
      ]
     },
     "metadata": {},
     "output_type": "display_data"
    }
   ],
   "source": [
    "errors_by_date_sorted_df = (not_found_df\n",
    "                                .groupBy(F.dayofmonth('time').alias('day'))\n",
    "                                .count()\n",
    "                                .sort(\"day\"))\n",
    "\n",
    "errors_by_date_sorted_pd_df = errors_by_date_sorted_df.toPandas()\n",
    "sns.pointplot(x='day', y='count', data=errors_by_date_sorted_pd_df)\n",
    "plt.xticks(rotation=60)\n",
    "plt.tight_layout();"
   ]
  },
  {
   "cell_type": "markdown",
   "metadata": {},
   "source": [
    "### Top Three Days for 404 Errors"
   ]
  },
  {
   "cell_type": "code",
   "execution_count": 100,
   "metadata": {},
   "outputs": [
    {
     "name": "stdout",
     "output_type": "stream",
     "text": [
      "+---+-----+\n",
      "|day|count|\n",
      "+---+-----+\n",
      "| 23|87711|\n",
      "| 19|49322|\n",
      "| 20|11225|\n",
      "+---+-----+\n",
      "only showing top 3 rows\n",
      "\n"
     ]
    }
   ],
   "source": [
    "errors_by_date_sorted_df.sort(\"count\", ascending=False).show(3)"
   ]
  },
  {
   "cell_type": "markdown",
   "metadata": {},
   "source": [
    "### Visualizing Hourly 404 Errors"
   ]
  },
  {
   "cell_type": "code",
   "execution_count": 105,
   "metadata": {},
   "outputs": [
    {
     "data": {
      "image/png": "[encoded data removed]",
      "text/plain": [
       "<matplotlib.figure.Figure at 0x7f70b173b7d0>"
      ]
     },
     "metadata": {},
     "output_type": "display_data"
    }
   ],
   "source": [
    "hourly_avg_errors_sorted_df = (not_found_df\n",
    "                                   .groupBy(F.hour('time')\n",
    "                                             .alias('hour'))\n",
    "                                   .count()\n",
    "                                   .sort('hour'))\n",
    "hourly_avg_errors_sorted_pd_df = hourly_avg_errors_sorted_df.toPandas()\n",
    "\n",
    "sns.pointplot(x='hour', y='count', data=hourly_avg_errors_sorted_pd_df)\n",
    "plt.xticks(rotation=60)\n",
    "plt.tight_layout();"
   ]
  }
 ],
 "metadata": {
  "kernelspec": {
   "display_name": "PySpark",
   "language": "python",
   "name": "pyspark"
  },
  "language_info": {
   "codemirror_mode": {
    "name": "ipython",
    "version": 2
   },
   "file_extension": ".py",
   "mimetype": "text/x-python",
   "name": "python",
   "nbconvert_exporter": "python",
   "pygments_lexer": "ipython2",
   "version": "2.7.14"
  }
 },
 "nbformat": 4,
 "nbformat_minor": 2
}
